{
 "cells": [
  {
   "cell_type": "markdown",
   "id": "acbaecad",
   "metadata": {},
   "source": [
    "# Data Science Tools and Ecosystem"
   ]
  },
  {
   "cell_type": "markdown",
   "id": "ba04423e",
   "metadata": {},
   "source": [
    "# Introduction\n",
    "\n",
    "In this notebook, Data Science Tools and Ecosystem are summarized."
   ]
  },
  {
   "cell_type": "markdown",
   "id": "9607afd2",
   "metadata": {},
   "source": [
    "## Author: Hugo Garcia Tecocoatzi"
   ]
  },
  {
   "cell_type": "markdown",
   "id": "ed04dcc6",
   "metadata": {},
   "source": [
    "**Objectives:**\n",
    "List popular languages for Data Science\n",
    "+ Python\n",
    "+ R\n",
    "+ C\n",
    "+ C++\n"
   ]
  },
  {
   "cell_type": "markdown",
   "id": "39690725",
   "metadata": {},
   "source": [
    "List of Data Science languages\n",
    "1. Python\n",
    "2. R\n",
    "3. C\n",
    "4. C++\n",
    "5. JAVA"
   ]
  },
  {
   "cell_type": "markdown",
   "id": "59e67cca",
   "metadata": {},
   "source": [
    "Some of the commonly used libraries used by Data Scientists include:\n",
    "\n",
    "    1. Pandas\n",
    "    2. Numpy\n",
    "    3. ggplot\n",
    "    4. caret\n",
    "    "
   ]
  },
  {
   "cell_type": "markdown",
   "id": "4dbd04d7",
   "metadata": {},
   "source": [
    "Data Science Tools.\n",
    "\n",
    "1. Jupyter\n",
    "2. RStudio\n",
    "3. Github\n"
   ]
  },
  {
   "cell_type": "markdown",
   "id": "5ab7f0d7",
   "metadata": {},
   "source": [
    "### Below are a few examples of evaluating arithmetic expressions in Python\n",
    "\n",
    "1. sum 2+2\n",
    "2. product 2*3\n",
    "3. etc"
   ]
  },
  {
   "cell_type": "code",
   "execution_count": 1,
   "id": "601a7a48",
   "metadata": {},
   "outputs": [
    {
     "data": {
      "text/plain": [
       "17"
      ]
     },
     "execution_count": 1,
     "metadata": {},
     "output_type": "execute_result"
    }
   ],
   "source": [
    "(3*4)+5\n",
    "#This a simple arithmetic expression to mutiply then add integers"
   ]
  },
  {
   "cell_type": "code",
   "execution_count": 2,
   "id": "33f38e43",
   "metadata": {},
   "outputs": [
    {
     "name": "stdout",
     "output_type": "stream",
     "text": [
      "This code convert 200 min to 3.3333333333333335 hr\n"
     ]
    }
   ],
   "source": [
    "print('This code convert 200 min to',200/60,'hr')\n",
    "#This will convert 200 minutes to hours by diving by 60"
   ]
  },
  {
   "cell_type": "code",
   "execution_count": null,
   "id": "3eca8c15",
   "metadata": {},
   "outputs": [],
   "source": []
  }
 ],
 "metadata": {
  "kernelspec": {
   "display_name": "Python 3 (ipykernel)",
   "language": "python",
   "name": "python3"
  },
  "language_info": {
   "codemirror_mode": {
    "name": "ipython",
    "version": 3
   },
   "file_extension": ".py",
   "mimetype": "text/x-python",
   "name": "python",
   "nbconvert_exporter": "python",
   "pygments_lexer": "ipython3",
   "version": "3.9.13"
  }
 },
 "nbformat": 4,
 "nbformat_minor": 5
}
